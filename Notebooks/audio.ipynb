{
 "cells": [
  {
   "cell_type": "code",
   "execution_count": 1,
   "id": "2ebac946-0f28-48f4-bf70-49b56ea2c919",
   "metadata": {},
   "outputs": [
    {
     "name": "stdout",
     "output_type": "stream",
     "text": [
      "Google Web Speech API recognized: the still smell of old buildings it takes heat to bring out the order a cold storage file with him tacos Alpha store are my favourite is just for food is the hot cross bun\n"
     ]
    }
   ],
   "source": [
    "import speech_recognition as sr\n",
    "\n",
    "# Initialize the recognizer\n",
    "recognizer = sr.Recognizer()\n",
    "\n",
    "# Replace 'your_audio.wav' with the path to your audio file\n",
    "audio_file = 'data/h.wav'\n",
    "\n",
    "# Load the audio file\n",
    "with sr.AudioFile(audio_file) as source:\n",
    "    # Adjust for ambient noise\n",
    "    recognizer.adjust_for_ambient_noise(source)\n",
    "\n",
    "    # Record the audio\n",
    "    audio = recognizer.record(source)\n",
    "\n",
    "try:\n",
    "    # Recognize the audio using the Google Web Speech API\n",
    "    text = recognizer.recognize_google(audio)\n",
    "    print(\"Google Web Speech API recognized: \" + text)\n",
    "except sr.UnknownValueError:\n",
    "    print(\"Google Web Speech API could not understand the audio\")\n",
    "except sr.RequestError as e:\n",
    "    print(\"Could not request results from Google Web Speech API; {0}\".format(e))\n"
   ]
  },
  {
   "cell_type": "code",
   "execution_count": 8,
   "id": "2e85aa76-3eae-4013-9e93-9366c5d27b31",
   "metadata": {},
   "outputs": [
    {
     "name": "stdout",
     "output_type": "stream",
     "text": [
      "had your mobile 11 months or more you are entitled to update to the latest colour mobiles with camera for free call the mobile update company free download 2986238\n",
      "[1]\n",
      "1\n"
     ]
    }
   ],
   "source": [
    "import pandas as pd\n",
    "from sklearn.feature_extraction.text import TfidfVectorizer\n",
    "from sklearn.model_selection import train_test_split\n",
    "from sklearn.naive_bayes import MultinomialNB\n",
    "from sklearn.metrics import accuracy_score, classification_report\n",
    "import speech_recognition as sr\n",
    "\n",
    "# Load your labeled SMS dataset\n",
    "data = pd.read_csv('data/sms.csv')  # Replace with your dataset path\n",
    "\n",
    "# Preprocessing: Clean and preprocess the text\n",
    "# Feature Extraction: TF-IDF vectorization\n",
    "vectorizer = TfidfVectorizer(max_features=1000, stop_words='english')\n",
    "X = vectorizer.fit_transform(data['sms'].values)\n",
    "y = data['label'].values\n",
    "\n",
    "# Split the dataset into training and testing sets\n",
    "X_train, X_test, y_train, y_test = train_test_split(X, y, test_size=0.2, random_state=42)\n",
    "\n",
    "# Train a Multinomial Naive Bayes classifier\n",
    "classifier = MultinomialNB()\n",
    "classifier.fit(X_train, y_train)\n",
    "\n",
    "# Function to convert audio to text and make predictions\n",
    "def process_audio(audio_path):\n",
    "    try:\n",
    "        # Initialize the recognizer\n",
    "        recognizer = sr.Recognizer()\n",
    "\n",
    "        # Recognize the audio using the Google Web Speech API\n",
    "        with sr.AudioFile(audio_path) as source:\n",
    "            audio = recognizer.record(source)\n",
    "        transcribed_text = recognizer.recognize_google(audio)\n",
    "\n",
    "        # Preprocess the transcribed text (clean and preprocess)\n",
    "        preprocessed_text = preprocess_text(transcribed_text)\n",
    "\n",
    "        # Vectorize the preprocessed text using TF-IDF\n",
    "        text_vector = vectorizer.transform([preprocessed_text])\n",
    "\n",
    "        # Make predictions using the trained classifier\n",
    "        prediction = classifier.predict(text_vector)\n",
    "\n",
    "        # Return the prediction\n",
    "        print(transcribed_text)\n",
    "        print(prediction)\n",
    "        return prediction[0]\n",
    "    except Exception as e:\n",
    "        print(f\"Error processing audio: {str(e)}\")\n",
    "        return None\n",
    "\n",
    "# Function to preprocess text (you can customize this based on your needs)\n",
    "def preprocess_text(text):\n",
    "    # Convert text to lowercase\n",
    "    text = text.lower()\n",
    "    \n",
    "    # Remove leading and trailing whitespaces\n",
    "    text = text.strip()\n",
    "    \n",
    "    # Add more preprocessing steps as needed, such as removing punctuation or special characters\n",
    "    return text\n",
    "\n",
    "# Example usage\n",
    "audio_file_path = 'data/notspam.wav'  # Replace with the path to your audio file\n",
    "predicted_label = process_audio(audio_file_path)\n",
    "print(predicted_label)\n",
    "\n",
    "\n"
   ]
  },
  {
   "cell_type": "code",
   "execution_count": 9,
   "id": "63392111-f3a1-42c6-a95c-65a249a3983b",
   "metadata": {},
   "outputs": [
    {
     "name": "stdout",
     "output_type": "stream",
     "text": [
      "Predicted Label: spam\n"
     ]
    }
   ],
   "source": [
    "if predicted_label==1:\n",
    "    print(f\"Predicted Label: spam\")\n",
    "else:\n",
    "    print(f\"Predicted Label: not spam\")"
   ]
  },
  {
   "cell_type": "code",
   "execution_count": null,
   "id": "f4058e0e-f473-489a-a4d5-6fb147a029d8",
   "metadata": {},
   "outputs": [],
   "source": []
  }
 ],
 "metadata": {
  "kernelspec": {
   "display_name": "Python 3 (ipykernel)",
   "language": "python",
   "name": "python3"
  },
  "language_info": {
   "codemirror_mode": {
    "name": "ipython",
    "version": 3
   },
   "file_extension": ".py",
   "mimetype": "text/x-python",
   "name": "python",
   "nbconvert_exporter": "python",
   "pygments_lexer": "ipython3",
   "version": "3.11.4"
  }
 },
 "nbformat": 4,
 "nbformat_minor": 5
}
