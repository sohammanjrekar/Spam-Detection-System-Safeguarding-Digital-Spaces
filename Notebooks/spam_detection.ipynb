{
 "cells": [
  {
   "cell_type": "markdown",
   "id": "0fc1936b-8e80-4f72-aa19-6ed024788f8e",
   "metadata": {},
   "source": [
    "### The described Spam Detection System (SDS) seems to be well-designed, utilizing a thorough feature extraction process to transform text data into meaningful feature vectors. These vectors capture crucial characteristics of both legitimate and spam messages, including lexical, syntactic, and semantic attributes. The use of a multi-layered machine learning model incorporating algorithms like Support Vector Machines, Random Forest, and Gradient Boosting indicates a robust approach to classification. Training the model on a diverse dataset with labeled examples of spam and non-spam messages is a crucial step in enabling it to recognize complex patterns and adapt to evolving spamming tactics. This comprehensive system appears poised to effectively discern between spam and non-spam content."
   ]
  },
  {
   "cell_type": "markdown",
   "id": "6a12c8c0-bfe7-4abc-9ebd-50ac5a26efa2",
   "metadata": {},
   "source": [
    "### Step 1: Data Preparation and Feature Extraction"
   ]
  },
  {
   "cell_type": "code",
   "execution_count": 5,
   "id": "fdda6533-c39b-49bf-931c-914ec7555ac6",
   "metadata": {},
   "outputs": [
    {
     "data": {
      "text/html": [
       "<div>\n",
       "<style scoped>\n",
       "    .dataframe tbody tr th:only-of-type {\n",
       "        vertical-align: middle;\n",
       "    }\n",
       "\n",
       "    .dataframe tbody tr th {\n",
       "        vertical-align: top;\n",
       "    }\n",
       "\n",
       "    .dataframe thead th {\n",
       "        text-align: right;\n",
       "    }\n",
       "</style>\n",
       "<table border=\"1\" class=\"dataframe\">\n",
       "  <thead>\n",
       "    <tr style=\"text-align: right;\">\n",
       "      <th></th>\n",
       "      <th>sms</th>\n",
       "      <th>label</th>\n",
       "    </tr>\n",
       "  </thead>\n",
       "  <tbody>\n",
       "    <tr>\n",
       "      <th>0</th>\n",
       "      <td>Go until jurong point, crazy.. Available only ...</td>\n",
       "      <td>0</td>\n",
       "    </tr>\n",
       "    <tr>\n",
       "      <th>1</th>\n",
       "      <td>Ok lar... Joking wif u oni...\\n</td>\n",
       "      <td>0</td>\n",
       "    </tr>\n",
       "    <tr>\n",
       "      <th>2</th>\n",
       "      <td>Free entry in 2 a wkly comp to win FA Cup fina...</td>\n",
       "      <td>1</td>\n",
       "    </tr>\n",
       "    <tr>\n",
       "      <th>3</th>\n",
       "      <td>U dun say so early hor... U c already then say...</td>\n",
       "      <td>0</td>\n",
       "    </tr>\n",
       "    <tr>\n",
       "      <th>4</th>\n",
       "      <td>Nah I don't think he goes to usf, he lives aro...</td>\n",
       "      <td>0</td>\n",
       "    </tr>\n",
       "  </tbody>\n",
       "</table>\n",
       "</div>"
      ],
      "text/plain": [
       "                                                 sms  label\n",
       "0  Go until jurong point, crazy.. Available only ...      0\n",
       "1                    Ok lar... Joking wif u oni...\\n      0\n",
       "2  Free entry in 2 a wkly comp to win FA Cup fina...      1\n",
       "3  U dun say so early hor... U c already then say...      0\n",
       "4  Nah I don't think he goes to usf, he lives aro...      0"
      ]
     },
     "execution_count": 5,
     "metadata": {},
     "output_type": "execute_result"
    }
   ],
   "source": [
    "import pandas as pd\n",
    "from sklearn.feature_extraction.text import TfidfVectorizer\n",
    "\n",
    "# Load the dataset containing labeled messages (spam and non-spam)\n",
    "data = pd.read_csv('data/sms.csv')\n",
    "\n",
    "# Create a TF-IDF vectorizer to convert text data into feature vectors\n",
    "vectorizer = TfidfVectorizer(max_features=1000, stop_words='english')\n",
    "X = vectorizer.fit_transform(data['sms'].values)\n",
    "y = data['label'].values\n",
    "data.head()"
   ]
  },
  {
   "cell_type": "markdown",
   "id": "1ffd9ef9-9ce2-48fb-ad1b-6e394c27348e",
   "metadata": {},
   "source": [
    "### Step 2: Model Training"
   ]
  },
  {
   "cell_type": "code",
   "execution_count": 2,
   "id": "a87e9b77-2c65-4717-91f6-c7072510e953",
   "metadata": {},
   "outputs": [
    {
     "name": "stdout",
     "output_type": "stream",
     "text": [
      "Random Forest Accuracy: 0.9856502242152466\n",
      "SVM Accuracy: 0.9856502242152466\n",
      "Gradient Boosting Accuracy: 0.968609865470852\n"
     ]
    }
   ],
   "source": [
    "from sklearn.model_selection import train_test_split\n",
    "from sklearn.ensemble import RandomForestClassifier\n",
    "from sklearn.svm import SVC\n",
    "from sklearn.ensemble import GradientBoostingClassifier\n",
    "from sklearn.metrics import accuracy_score\n",
    "\n",
    "# Split the dataset into training and testing sets\n",
    "X_train, X_test, y_train, y_test = train_test_split(X, y, test_size=0.2, random_state=42)\n",
    "\n",
    "# Train different classifiers\n",
    "random_forest = RandomForestClassifier()\n",
    "svm = SVC()\n",
    "gradient_boosting = GradientBoostingClassifier()\n",
    "\n",
    "random_forest.fit(X_train, y_train)\n",
    "svm.fit(X_train, y_train)\n",
    "gradient_boosting.fit(X_train, y_train)\n",
    "\n",
    "# Make predictions on the test set\n",
    "rf_predictions = random_forest.predict(X_test)\n",
    "svm_predictions = svm.predict(X_test)\n",
    "gb_predictions = gradient_boosting.predict(X_test)\n",
    "\n",
    "# Calculate accuracy scores\n",
    "rf_accuracy = accuracy_score(y_test, rf_predictions)\n",
    "svm_accuracy = accuracy_score(y_test, svm_predictions)\n",
    "gb_accuracy = accuracy_score(y_test, gb_predictions)\n",
    "\n",
    "print(\"Random Forest Accuracy:\", rf_accuracy)\n",
    "print(\"SVM Accuracy:\", svm_accuracy)\n",
    "print(\"Gradient Boosting Accuracy:\", gb_accuracy)\n"
   ]
  },
  {
   "cell_type": "markdown",
   "id": "f3c27e1a-01b0-48af-9592-f37f6b3b94aa",
   "metadata": {},
   "source": [
    "### Step 3: Model Evaluation and Selection"
   ]
  },
  {
   "cell_type": "code",
   "execution_count": 3,
   "id": "b69019f1-0944-4ceb-aeaf-73c72c8e8263",
   "metadata": {},
   "outputs": [
    {
     "name": "stdout",
     "output_type": "stream",
     "text": [
      "Best Model: SVM\n"
     ]
    }
   ],
   "source": [
    "# Compare the accuracies and choose the best-performing model\n",
    "best_model = max([(rf_accuracy, 'Random Forest'), (svm_accuracy, 'SVM'), (gb_accuracy, 'Gradient Boosting')])\n",
    "\n",
    "print(\"Best Model:\", best_model[1])\n"
   ]
  },
  {
   "cell_type": "code",
   "execution_count": null,
   "id": "9912277e-c55e-4739-81c3-1a7c2e87b525",
   "metadata": {},
   "outputs": [],
   "source": []
  },
  {
   "cell_type": "code",
   "execution_count": null,
   "id": "bf0c7582-f8cd-48fe-96f1-9ce262df03a4",
   "metadata": {},
   "outputs": [],
   "source": []
  },
  {
   "cell_type": "code",
   "execution_count": null,
   "id": "72418bc1-0cbf-45b0-8b97-b2ff94a851c9",
   "metadata": {},
   "outputs": [],
   "source": []
  },
  {
   "cell_type": "code",
   "execution_count": null,
   "id": "5870d37a-e290-4969-bbbe-8df90d6d568f",
   "metadata": {},
   "outputs": [],
   "source": []
  },
  {
   "cell_type": "code",
   "execution_count": null,
   "id": "8962b5f8-d4ff-4d57-83a7-cbca6334fa7d",
   "metadata": {},
   "outputs": [],
   "source": []
  },
  {
   "cell_type": "code",
   "execution_count": null,
   "id": "c90579e9-ad29-4b6d-94d9-96dec8aa4516",
   "metadata": {},
   "outputs": [],
   "source": []
  },
  {
   "cell_type": "code",
   "execution_count": null,
   "id": "2b2caffd-b86e-4fb5-bb18-612379f68ef4",
   "metadata": {},
   "outputs": [],
   "source": []
  }
 ],
 "metadata": {
  "kernelspec": {
   "display_name": "Python 3 (ipykernel)",
   "language": "python",
   "name": "python3"
  },
  "language_info": {
   "codemirror_mode": {
    "name": "ipython",
    "version": 3
   },
   "file_extension": ".py",
   "mimetype": "text/x-python",
   "name": "python",
   "nbconvert_exporter": "python",
   "pygments_lexer": "ipython3",
   "version": "3.11.4"
  }
 },
 "nbformat": 4,
 "nbformat_minor": 5
}
